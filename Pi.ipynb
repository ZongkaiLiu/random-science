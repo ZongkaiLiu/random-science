{
 "cells": [
  {
   "cell_type": "markdown",
   "metadata": {},
   "source": [
    "# Monte Carlo Estimation of Pi\n",
    "How do we know the value of pi? We have to compute it. One way to compute it is through random sampling. Image a 1x1 square with a cirle enscribed in it. If we randomly place dots in the sqaure, the ratio of the number of dots in the sqaure $N_s$ to the number of dots in the circle $N_c$ will estimate the ratio of the areas of the two shapes $ \\frac{N_s}{N_c} = \\frac{A_s}{A_c}$. Since $A_c = 1^2 = 1$ and $A_s = \\pi 1^2 = \\pi$, $\\pi = \\frac{N_s}{N_c}$"
   ]
  },
  {
   "cell_type": "code",
   "execution_count": null,
   "metadata": {},
   "outputs": [],
   "source": []
  },
  {
   "cell_type": "code",
   "execution_count": null,
   "metadata": {},
   "outputs": [],
   "source": []
  },
  {
   "cell_type": "markdown",
   "metadata": {},
   "source": [
    "### Random Sample Generator: Classical vs Quantum\n",
    "\n",
    "Can we see performance difference between a classical random number generator "
   ]
  },
  {
   "cell_type": "code",
   "execution_count": null,
   "metadata": {},
   "outputs": [],
   "source": []
  }
 ],
 "metadata": {
  "kernelspec": {
   "display_name": "Python 3",
   "language": "python",
   "name": "python3"
  },
  "language_info": {
   "codemirror_mode": {
    "name": "ipython",
    "version": 3
   },
   "file_extension": ".py",
   "mimetype": "text/x-python",
   "name": "python",
   "nbconvert_exporter": "python",
   "pygments_lexer": "ipython3",
   "version": "3.6.4"
  }
 },
 "nbformat": 4,
 "nbformat_minor": 2
}
