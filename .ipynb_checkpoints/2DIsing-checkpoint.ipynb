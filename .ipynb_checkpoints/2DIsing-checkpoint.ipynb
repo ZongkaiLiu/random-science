{
 "cells": [
  {
   "cell_type": "markdown",
   "metadata": {},
   "source": [
    "# 2D Ising Model\n",
    "The 2D Ising model using the metropolis-based Monte Carlo method, as described in Fig. 8.8 Schroeder (an undergraduate statistical mechanics/thermodynamics textbook). The magnetization M, the average energy U, the heat capacity C, and the magnetic susceptibility χ are all plotted as functions of temperature. The signature discontinuity in C and χ mark the critical temperature and phase transition of the 2D spin lattice."
   ]
  },
  {
   "cell_type": "code",
   "execution_count": 1,
   "metadata": {},
   "outputs": [],
   "source": [
    "import matplotlib.pyplot as plt\n",
    "\n",
    "from numba import jit, njit\n",
    "import numpy as np\n",
    "\n",
    "import random\n",
    "import time"
   ]
  },
  {
   "cell_type": "code",
   "execution_count": 2,
   "metadata": {},
   "outputs": [],
   "source": [
    "# Helper functions\n",
    "\n",
    "# Calculate the energy of the lattice.\n",
    "# The energy is the sum of interactions between spins divided by the total number of spins\n",
    "@njit\n",
    "def calcE(s):\n",
    "    E = 0\n",
    "    for i in range(width):\n",
    "        for j in range(width):\n",
    "            E += -deltaU(s,i,j)/2\n",
    "    return E/width**2\n",
    "\n",
    "# Calculate magnetization. \n",
    "# Magnetization is the sum of all spins divided by the total number of spins\n",
    "@njit\n",
    "def calcM(s):\n",
    "    m = np.abs(s.sum())\n",
    "    return m/width**2\n",
    "\n",
    "# Calculate interaction energy between spins. Assume periodic boundaries\n",
    "# Interaction energy will be the difference in energy due to flipping spin i,j \n",
    "# (i.e. 2*spin_value*neighboring_spins)\n",
    "@njit\n",
    "def deltaU(s,i,j):\n",
    "    #top\n",
    "    if i == 0:\n",
    "        t = s[width-1,j]  # periodic boundary\n",
    "    else:\n",
    "        t = s[i-1,j]\n",
    "    #bottom\n",
    "    if i == width-1:\n",
    "        b = s[0,j]  # periodic boundary\n",
    "    else:\n",
    "        b = s[i+1,j]\n",
    "    #left\n",
    "    if j == 0:\n",
    "        l = s[i,width-1]  # periodic boundary\n",
    "    else:\n",
    "        l = s[i,j-1]\n",
    "    #right\n",
    "    if j == width-1:\n",
    "        r = s[i,0]  # periodic boundary\n",
    "    else:\n",
    "        r = s[i,j+1]\n",
    "    return 2*s[i,j]*(t+b+r+l)  # difference in energy if i,j is flipped\n",
    "\n",
    "# Monte carlo cycle\n",
    "@njit\n",
    "def montecc(s,Temp,cycles):\n",
    "    for m in range(cycles):\n",
    "        i = random.randrange(width)  # choose random row\n",
    "        j = random.randrange(width)  # choose random column\n",
    "        ediff = deltaU(s,i,j)\n",
    "        if ediff <= 0:\n",
    "            s[i,j] = -s[i,j]  # flip spin\n",
    "        elif random.random() < np.exp(-ediff/Temp):\n",
    "            s[i,j] = -s[i,j]\n",
    "    return s\n",
    "\n",
    "# Compute physical quantities\n",
    "@njit\n",
    "def computePQ(s,T,cycles):\n",
    "    En = 0\n",
    "    En_sq = 0\n",
    "    Mg = 0\n",
    "    Mg_sq = 0\n",
    "    for p in range(cycles):\n",
    "        s = montecc(s,T,1)\n",
    "        E = calcE(s)\n",
    "        M = calcM(s)\n",
    "        En += E\n",
    "        Mg += M\n",
    "        En_sq += E*E\n",
    "        Mg_sq += M*M\n",
    "    aveEn = En/cycles\n",
    "    mag = Mg/cycles\n",
    "    sus = (Mg_sq/cycles-(Mg/cycles)**2)/T\n",
    "    heatCap = (En_sq/cycles-(En/cycles)**2)/(T**2)\n",
    "    return aveEn, mag, sus, heatCap"
   ]
  },
  {
   "cell_type": "code",
   "execution_count": null,
   "metadata": {
    "scrolled": true
   },
   "outputs": [],
   "source": [
    "# Initial parameters\n",
    "\n",
    "width = 32  # width of sqaure spin lattice; 64 points may take hours\n",
    "s = np.random.choice([1,-1],size=(width,width))  # initial spin sites randomly (+1 or -1)\n",
    "cycles = 1000 * width**2\n",
    "\n",
    "# Initlaize temperature range (crosses critical temperature)\n",
    "temps = np.arange(1.60,3.15,0.02)\n",
    "\n",
    "# Inititalize magnetization, average energy, heat capacity, and susceptibility\n",
    "mag = np.zeros(len(temps))\n",
    "aveEn = np.zeros(len(temps))\n",
    "heatCap = np.zeros(len(temps))\n",
    "sus = np.zeros(len(temps))\n",
    "\n",
    "start = time.time()\n",
    "# Compute physical quanities (magnetization, etc.)\n",
    "for ind, T in enumerate(temps):\n",
    "    # Cycle spins\n",
    "    s = montecc(s,T,1)\n",
    "    # Compute physical quanitites with 1000 cycles per spin\n",
    "    aveEn[ind], mag[ind], sus[ind], heatCap[ind] = computePQ(s,T,cycles)\n",
    "end = time.time()\n",
    "print(\"Elapsed = %s\" % (end - start))"
   ]
  },
  {
   "cell_type": "code",
   "execution_count": null,
   "metadata": {},
   "outputs": [],
   "source": [
    "# Plot calculated stuff\n",
    "\n",
    "plt.scatter(temps,aveEn,s=2)\n",
    "plt.xlabel('Temperature')\n",
    "plt.ylabel('Average Energy')\n",
    "plt.show()\n",
    "\n",
    "plt.scatter(temps,heatCap,s=2)\n",
    "plt.xlabel('Temperature')\n",
    "plt.ylabel('Heat Capacity')\n",
    "plt.show()\n",
    "\n",
    "plt.scatter(temps,mag,s=2)\n",
    "plt.xlabel('Temperature')\n",
    "plt.ylabel('Magnetization')\n",
    "plt.show()\n",
    "\n",
    "plt.scatter(temps,sus,s=2)\n",
    "plt.xlabel('Temperature')\n",
    "plt.ylabel('Susceptibility')\n",
    "plt.show()"
   ]
  },
  {
   "cell_type": "markdown",
   "metadata": {},
   "source": [
    "# Faster Computation\n",
    "The first completed version of the code (with numba) the hyperparameters were\n",
    "\n",
    "```width = 32\n",
    "cycles = 1000 * width**2\n",
    "temps = np.arange(1.60,3.15,0.02)```\n",
    "\n",
    "and took ~ 155 seconds\n",
    "\n",
    "Let's see what optimizations can be made! Before we look at each function, note that `x**2` takes noticably longer than `x*x` and numba offers a fastmasth option that will be incorperated in each function."
   ]
  },
  {
   "cell_type": "code",
   "execution_count": 53,
   "metadata": {},
   "outputs": [],
   "source": [
    "# Initial parameters\n",
    "\n",
    "width = 2**5  # width of sqaure spin lattice; MUST BE POWER OF 2; 64 points may take hours\n",
    "width_log2 = int(np.log2(width))\n",
    "s = np.random.choice([1,-1],size=(width,width))  # initial spin sites randomly (+1 or -1)\n",
    "cycles = 1000 * width**2\n",
    "\n",
    "# Initlaize temperature range (crosses critical temperature)\n",
    "temps = np.arange(1.60,3.15,0.02)\n",
    "\n",
    "# Inititalize magnetization, average energy, heat capacity, and susceptibility\n",
    "mag = np.zeros(len(temps))\n",
    "aveEn = np.zeros(len(temps))\n",
    "heatCap = np.zeros(len(temps))\n",
    "sus = np.zeros(len(temps))"
   ]
  },
  {
   "cell_type": "code",
   "execution_count": 33,
   "metadata": {},
   "outputs": [
    {
     "name": "stdout",
     "output_type": "stream",
     "text": [
      "284 ns ± 28.7 ns per loop (mean ± std. dev. of 7 runs, 1000000 loops each)\n"
     ]
    }
   ],
   "source": [
    "# old way\n",
    "%timeit width**2"
   ]
  },
  {
   "cell_type": "code",
   "execution_count": 34,
   "metadata": {},
   "outputs": [
    {
     "name": "stdout",
     "output_type": "stream",
     "text": [
      "66.1 ns ± 3.76 ns per loop (mean ± std. dev. of 7 runs, 10000000 loops each)\n"
     ]
    }
   ],
   "source": [
    "# new way\n",
    "%timeit width*width"
   ]
  },
  {
   "cell_type": "markdown",
   "metadata": {},
   "source": [
    "## Delta u\n",
    "Is there a faster way to implement periodic boundary conditions and add up neighboring spins? An attempt using np.roll and matrix addition/mulitplication was made, but it was x20 slower."
   ]
  },
  {
   "cell_type": "code",
   "execution_count": null,
   "metadata": {},
   "outputs": [],
   "source": [
    "# Calculate interaction energy between spins. Assume periodic boundaries. i and j and be any value\n",
    "# Interaction energy will be the difference in energy due to flipping spin i,j \n",
    "# (i.e. 2*spin_value*neighboring_spins)\n",
    "@njit(fastmath=True)\n",
    "def deltaU_fast(s,i,j):\n",
    "    #top\n",
    "    if i == 0:\n",
    "        t = s[width-1,j]  # periodic boundary\n",
    "    else:\n",
    "        t = s[i-1,j]\n",
    "    #bottom\n",
    "    if i == width-1:\n",
    "        b = s[0,j]  # periodic boundary\n",
    "    else:\n",
    "        b = s[i+1,j]\n",
    "    #left\n",
    "    if j == 0:\n",
    "        l = s[i,width-1]  # periodic boundary\n",
    "    else:\n",
    "        l = s[i,j-1]\n",
    "    #right\n",
    "    if j == width-1:\n",
    "        r = s[i,0]  # periodic boundary\n",
    "    else:\n",
    "        r = s[i,j+1]\n",
    "    return s[i,j] * (t+b+r+l)  # difference in energy if i,j is flipped"
   ]
  },
  {
   "cell_type": "code",
   "execution_count": 37,
   "metadata": {},
   "outputs": [
    {
     "name": "stdout",
     "output_type": "stream",
     "text": [
      "442 ns ± 28.7 ns per loop (mean ± std. dev. of 7 runs, 1000000 loops each)\n"
     ]
    }
   ],
   "source": [
    "%timeit deltaU(s,15,15)"
   ]
  },
  {
   "cell_type": "code",
   "execution_count": 38,
   "metadata": {},
   "outputs": [
    {
     "name": "stdout",
     "output_type": "stream",
     "text": [
      "389 ns ± 8.39 ns per loop (mean ± std. dev. of 7 runs, 1000000 loops each)\n"
     ]
    }
   ],
   "source": [
    "%timeit deltaU_fast(s,15,15)"
   ]
  },
  {
   "cell_type": "markdown",
   "metadata": {},
   "source": [
    "%timeit reveals that `calcE()` takes up the most time. Let's start there for possible improvements.\n",
    "## Calculate Energy\n",
    "Using just matrix manipulations to compute the total energy took x10 longer than the the double for loop with jit. Also, having a function for the bulk spins and a function for the edge spins (in hopes of reducing if logic) actually ran slower as well. I noticed the output of `deltaU()` is multipled by 2, but then immediately divided by two in `calcE()`. Resolving this throughout the functions helped lower runtime. The two other speed ups are from `fastmath=True` and replacing `x**2` with `x*x`"
   ]
  },
  {
   "cell_type": "code",
   "execution_count": null,
   "metadata": {},
   "outputs": [],
   "source": [
    "# Calculate the energy of the lattice.\n",
    "# The energy is the sum of interactions between spins divided by the total number of spins\n",
    "@njit(fastmath=True)\n",
    "def calcE_fast(s):\n",
    "    E = 0\n",
    "    for i in range(width):\n",
    "        for j in range(width):\n",
    "            E += -deltaU_fast(s,i,j)\n",
    "    return E / (width*width)"
   ]
  },
  {
   "cell_type": "code",
   "execution_count": 45,
   "metadata": {},
   "outputs": [
    {
     "name": "stdout",
     "output_type": "stream",
     "text": [
      "2.89 µs ± 71 ns per loop (mean ± std. dev. of 7 runs, 100000 loops each)\n"
     ]
    }
   ],
   "source": [
    "# old way\n",
    "%timeit calcE(s)"
   ]
  },
  {
   "cell_type": "code",
   "execution_count": 46,
   "metadata": {},
   "outputs": [
    {
     "name": "stdout",
     "output_type": "stream",
     "text": [
      "1.84 µs ± 209 ns per loop (mean ± std. dev. of 7 runs, 1000000 loops each)\n"
     ]
    }
   ],
   "source": [
    "# new way\n",
    "%timeit calcE_fast(s)"
   ]
  },
  {
   "cell_type": "markdown",
   "metadata": {},
   "source": [
    "## Calculate Magnetization\n",
    "Already fast and not a main time contributor"
   ]
  },
  {
   "cell_type": "code",
   "execution_count": null,
   "metadata": {},
   "outputs": [],
   "source": [
    "# Calculate magnetization. \n",
    "# Magnetization is the sum of all spins divided by the total number of spins\n",
    "@njit(fastmath=True)\n",
    "def calcM_fast(s):\n",
    "    m = np.abs(s.sum()) / (width*width)\n",
    "    return m"
   ]
  },
  {
   "cell_type": "code",
   "execution_count": 39,
   "metadata": {},
   "outputs": [
    {
     "name": "stdout",
     "output_type": "stream",
     "text": [
      "399 ns ± 9.91 ns per loop (mean ± std. dev. of 7 runs, 1000000 loops each)\n"
     ]
    }
   ],
   "source": [
    "%timeit calcM(s)"
   ]
  },
  {
   "cell_type": "code",
   "execution_count": 40,
   "metadata": {},
   "outputs": [
    {
     "name": "stdout",
     "output_type": "stream",
     "text": [
      "383 ns ± 0.607 ns per loop (mean ± std. dev. of 7 runs, 1000000 loops each)\n"
     ]
    }
   ],
   "source": [
    "%timeit calcM_fast(s)"
   ]
  },
  {
   "cell_type": "markdown",
   "metadata": {},
   "source": [
    "## Monte Carlo Cycle\n",
    "Overall, `montecc()` and `montecc_fast()` take the same time for one cycle, but `montecc_fast()` is noticably faster over many cycles.\n",
    "\n",
    "### Lattice Size\n",
    "If we restrict the lattice size to be a power of 2, the random number generating time deceases by a factor of 10 for that part of the computation."
   ]
  },
  {
   "cell_type": "code",
   "execution_count": null,
   "metadata": {},
   "outputs": [],
   "source": [
    "# Monte carlo cycle\n",
    "@njit(fastmath=True)\n",
    "def montecc_fast(s,Temp,cycles):\n",
    "    for m in range(cycles):\n",
    "        i = random.getrandbits(width_log2)  # choose random row\n",
    "        j = random.getrandbits(width_log2)  # choose random column\n",
    "        ediff = 2 * deltaU_fast(s,i,j)\n",
    "        if ediff <= 0:\n",
    "            s[i,j] *= -1  # flip spin\n",
    "        elif random.random() < np.exp(-ediff/Temp):\n",
    "            s[i,j] *= -1\n",
    "    return s"
   ]
  },
  {
   "cell_type": "code",
   "execution_count": 41,
   "metadata": {},
   "outputs": [
    {
     "name": "stdout",
     "output_type": "stream",
     "text": [
      "1.06 µs ± 123 ns per loop (mean ± std. dev. of 7 runs, 1000000 loops each)\n"
     ]
    }
   ],
   "source": [
    "# old way: random number generation\n",
    "%timeit random.randrange(width)"
   ]
  },
  {
   "cell_type": "code",
   "execution_count": 42,
   "metadata": {},
   "outputs": [
    {
     "name": "stdout",
     "output_type": "stream",
     "text": [
      "145 ns ± 8.86 ns per loop (mean ± std. dev. of 7 runs, 10000000 loops each)\n"
     ]
    }
   ],
   "source": [
    "# new way: random number generation\n",
    "%timeit random.getrandbits(width_log2)"
   ]
  },
  {
   "cell_type": "code",
   "execution_count": 43,
   "metadata": {},
   "outputs": [
    {
     "name": "stdout",
     "output_type": "stream",
     "text": [
      "1.45 µs ± 57.4 ns per loop (mean ± std. dev. of 7 runs, 1000000 loops each)\n"
     ]
    }
   ],
   "source": [
    "#generate an s for testing\n",
    "%timeit montecc(s,1.60,20)"
   ]
  },
  {
   "cell_type": "code",
   "execution_count": 47,
   "metadata": {},
   "outputs": [
    {
     "name": "stdout",
     "output_type": "stream",
     "text": [
      "1.02 µs ± 135 ns per loop (mean ± std. dev. of 7 runs, 1000000 loops each)\n"
     ]
    }
   ],
   "source": [
    "%timeit montecc_fast(s,1.60,20)"
   ]
  },
  {
   "cell_type": "markdown",
   "metadata": {},
   "source": [
    "## Main computation loop\n",
    "Most of the time comes from calcE function. All previously mentioned speed ups are included here."
   ]
  },
  {
   "cell_type": "code",
   "execution_count": null,
   "metadata": {},
   "outputs": [],
   "source": [
    "# Compute physical quantities\n",
    "@njit(fastmath=True)\n",
    "def computePQ_fast(s,T,cycles):\n",
    "    En = 0\n",
    "    En_sq = 0\n",
    "    Mg = 0\n",
    "    Mg_sq = 0\n",
    "    for p in range(cycles):\n",
    "        s = montecc_fast(s,T,1)\n",
    "        E = calcE_fast(s)\n",
    "        M = calcM_fast(s)\n",
    "        En += E\n",
    "        Mg += M\n",
    "        En_sq += E*E\n",
    "        Mg_sq += M*M\n",
    "    aveEn = En / cycles\n",
    "    mag = Mg / cycles\n",
    "    sus = (Mg_sq / cycles - (mag * mag))/T\n",
    "    heatCap = (En_sq / cycles - (aveEn * aveEn))/(T*T)\n",
    "    return aveEn, mag, sus, heatCap"
   ]
  },
  {
   "cell_type": "code",
   "execution_count": 48,
   "metadata": {},
   "outputs": [
    {
     "name": "stdout",
     "output_type": "stream",
     "text": [
      "96.8 µs ± 4.4 µs per loop (mean ± std. dev. of 7 runs, 10000 loops each)\n"
     ]
    }
   ],
   "source": [
    "%timeit computePQ(s,1.60,50)"
   ]
  },
  {
   "cell_type": "code",
   "execution_count": 50,
   "metadata": {},
   "outputs": [
    {
     "name": "stdout",
     "output_type": "stream",
     "text": [
      "78.9 µs ± 1.79 µs per loop (mean ± std. dev. of 7 runs, 10000 loops each)\n"
     ]
    }
   ],
   "source": [
    "%timeit computePQ_fast(s,1.60,50)"
   ]
  },
  {
   "cell_type": "markdown",
   "metadata": {},
   "source": [
    "## Faster Computation\n",
    "Let's use these faster functions and see how well they do! The previous computation was 155s. With the \"fast\" functions and same hyperparameters, it's 126s! An 18.7% faster computation!"
   ]
  },
  {
   "cell_type": "code",
   "execution_count": 32,
   "metadata": {},
   "outputs": [],
   "source": [
    "# Fast helper functions all in one place\n",
    "\n",
    "# Calculate the energy of the lattice.\n",
    "# The energy is the sum of interactions between spins divided by the total number of spins\n",
    "@njit(fastmath=True)\n",
    "def calcE_fast(s):\n",
    "    E = 0\n",
    "    for i in range(width):\n",
    "        for j in range(width):\n",
    "            E += -deltaU_fast(s,i,j)\n",
    "    return E / (width*width)\n",
    "\n",
    "\n",
    "# Calculate magnetization. \n",
    "# Magnetization is the sum of all spins divided by the total number of spins\n",
    "@njit(fastmath=True)\n",
    "def calcM_fast(s):\n",
    "    m = np.abs(s.sum()) / (width*width)\n",
    "    return m\n",
    "\n",
    "# Calculate interaction energy between spins. Assume periodic boundaries. i and j and be any value\n",
    "# Interaction energy will be the difference in energy due to flipping spin i,j \n",
    "# (i.e. 2*spin_value*neighboring_spins)\n",
    "@njit(fastmath=True)\n",
    "def deltaU_fast(s,i,j):\n",
    "    #top\n",
    "    if i == 0:\n",
    "        t = s[width-1,j]  # periodic boundary\n",
    "    else:\n",
    "        t = s[i-1,j]\n",
    "    #bottom\n",
    "    if i == width-1:\n",
    "        b = s[0,j]  # periodic boundary\n",
    "    else:\n",
    "        b = s[i+1,j]\n",
    "    #left\n",
    "    if j == 0:\n",
    "        l = s[i,width-1]  # periodic boundary\n",
    "    else:\n",
    "        l = s[i,j-1]\n",
    "    #right\n",
    "    if j == width-1:\n",
    "        r = s[i,0]  # periodic boundary\n",
    "    else:\n",
    "        r = s[i,j+1]\n",
    "    return s[i,j] * (t+b+r+l)  # difference in energy if i,j is flipped\n",
    "\n",
    "# Monte carlo cycle\n",
    "@njit(fastmath=True)\n",
    "def montecc_fast(s,Temp,cycles):\n",
    "    for m in range(cycles):\n",
    "        i = random.getrandbits(width_log2)  # choose random row\n",
    "        j = random.getrandbits(width_log2)  # choose random column\n",
    "        ediff = 2 * deltaU_fast(s,i,j)\n",
    "        if ediff <= 0:\n",
    "            s[i,j] *= -1  # flip spin\n",
    "        elif random.random() < np.exp(-ediff/Temp):\n",
    "            s[i,j] *= -1\n",
    "    return s\n",
    "\n",
    "\n",
    "# Compute physical quantities\n",
    "@njit(fastmath=True)\n",
    "def computePQ_fast(s,T,cycles):\n",
    "    En = 0\n",
    "    En_sq = 0\n",
    "    Mg = 0\n",
    "    Mg_sq = 0\n",
    "    for p in range(cycles):\n",
    "        s = montecc_fast(s,T,1)\n",
    "        E = calcE_fast(s)\n",
    "        M = calcM_fast(s)\n",
    "        En += E\n",
    "        Mg += M\n",
    "        En_sq += E*E\n",
    "        Mg_sq += M*M\n",
    "    aveEn = En / cycles\n",
    "    mag = Mg / cycles\n",
    "    sus = (Mg_sq / cycles - (mag * mag))/T\n",
    "    heatCap = (En_sq / cycles - (aveEn * aveEn))/(T*T)\n",
    "    return aveEn, mag, sus, heatCap"
   ]
  },
  {
   "cell_type": "code",
   "execution_count": 54,
   "metadata": {
    "scrolled": true
   },
   "outputs": [
    {
     "name": "stdout",
     "output_type": "stream",
     "text": [
      "Elapsed = 126.28659629821777\n"
     ]
    }
   ],
   "source": [
    "start = time.time()\n",
    "# Compute physical quanities (magnetization, etc.)\n",
    "for ind, T in enumerate(temps):\n",
    "    # Cycle spins\n",
    "    s = montecc_fast(s,T,cycles)\n",
    "    # Compute physical quanitites with 1000 cycles per spin\n",
    "    aveEn[ind], mag[ind], sus[ind], heatCap[ind] = computePQ_fast(s,T,cycles)\n",
    "end = time.time()\n",
    "print(\"Elapsed = %s\" % (end - start))"
   ]
  },
  {
   "cell_type": "code",
   "execution_count": 55,
   "metadata": {},
   "outputs": [
    {
     "data": {
      "image/png": "[encoded data removed]",
      "text/plain": [
       "<Figure size 432x288 with 1 Axes>"
      ]
     },
     "metadata": {
      "needs_background": "light"
     },
     "output_type": "display_data"
    },
    {
     "data": {
      "image/png": "[encoded data removed]",
      "text/plain": [
       "<Figure size 432x288 with 1 Axes>"
      ]
     },
     "metadata": {
      "needs_background": "light"
     },
     "output_type": "display_data"
    },
    {
     "data": {
      "image/png": "[encoded data removed]",
      "text/plain": [
       "<Figure size 432x288 with 1 Axes>"
      ]
     },
     "metadata": {
      "needs_background": "light"
     },
     "output_type": "display_data"
    },
    {
     "data": {
      "image/png": "[encoded data removed]",
      "text/plain": [
       "<Figure size 432x288 with 1 Axes>"
      ]
     },
     "metadata": {
      "needs_background": "light"
     },
     "output_type": "display_data"
    }
   ],
   "source": [
    "# Plot calculated stuff\n",
    "\n",
    "plt.scatter(temps,aveEn,s=2)\n",
    "plt.xlabel('Temperature')\n",
    "plt.ylabel('Average Energy')\n",
    "plt.show()\n",
    "\n",
    "plt.scatter(temps,heatCap,s=2)\n",
    "plt.xlabel('Temperature')\n",
    "plt.ylabel('Heat Capacity')\n",
    "plt.show()\n",
    "\n",
    "plt.scatter(temps,mag,s=2)\n",
    "plt.xlabel('Temperature')\n",
    "plt.ylabel('Magnetization')\n",
    "plt.show()\n",
    "\n",
    "plt.scatter(temps,sus,s=2)\n",
    "plt.xlabel('Temperature')\n",
    "plt.ylabel('Susceptibility')\n",
    "plt.show()"
   ]
  }
 ],
 "metadata": {
  "kernelspec": {
   "display_name": "Python 3",
   "language": "python",
   "name": "python3"
  },
  "language_info": {
   "codemirror_mode": {
    "name": "ipython",
    "version": 3
   },
   "file_extension": ".py",
   "mimetype": "text/x-python",
   "name": "python",
   "nbconvert_exporter": "python",
   "pygments_lexer": "ipython3",
   "version": "3.6.4"
  }
 },
 "nbformat": 4,
 "nbformat_minor": 2
}
