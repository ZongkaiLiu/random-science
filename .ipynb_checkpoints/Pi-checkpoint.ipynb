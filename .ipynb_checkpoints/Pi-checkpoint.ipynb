{
 "cells": [
  {
   "cell_type": "markdown",
   "metadata": {},
   "source": [
    "# Monte Carlo Estimation of Pi\n",
    "How do we know the value of pi? We have to compute it. One way to compute it is through random sampling. Imagine a 1x1 square with a cirle enscribed. If we randomly place dots in the sqaure, the ratio dots in the sqaure $N_s$ to the dots in the circle $N_c$ will estimate the ratio of the areas of the two shapes $\\frac{N_c}{N_s} = \\frac{A_c}{A_s}$. Since $A_s = 1^2 = 1$ and $A_c = \\pi \\left(\\frac{1}{2}\\right)^2 = \\frac{\\pi}{4}$, we can compute an estimate on pi $\\hat{\\pi} = \\frac{4N_c}{N_s} = \\frac{4N_c}{N}$ where $N$ is the total number of samples. We make $N_s = N$ by random sampling only within the square."
   ]
  },
  {
   "cell_type": "code",
   "execution_count": 1,
   "metadata": {},
   "outputs": [],
   "source": [
    "import random\n",
    "import time\n",
    "import numpy as np\n",
    "from numba import njit\n",
    "import matplotlib.pyplot as plt\n",
    "\n",
    "from scipy.stats import linregress"
   ]
  },
  {
   "cell_type": "code",
   "execution_count": 2,
   "metadata": {},
   "outputs": [
    {
     "name": "stdout",
     "output_type": "stream",
     "text": [
      "Total number of samples: 32768\n",
      "pi estimation: 3.1441650390625\n"
     ]
    }
   ],
   "source": [
    "N = 2**15  # total number of samples needs to be power of 2 for fast random number generation\n",
    "Nc = 0\n",
    "\n",
    "print(\"Total number of samples:\",N)\n",
    "for i in range(N):\n",
    "    # Get random x and y values where bottom left corner of the sqaure is (0,0)\n",
    "    rand_xval = random.getrandbits(int(np.log2(N))) / N  # returns values between 0 and 1 discretized by N\n",
    "    rand_yval = random.getrandbits(int(np.log2(N))) / N  # returns values between 0 and 1 discretized by N\n",
    "    # Compute radial distance [remember cirle is centered at (0.5,0.5)]\n",
    "    rad_dis = np.sqrt((rand_xval-0.5)*(rand_xval-0.5) + (rand_yval-0.5)*(rand_yval-0.5))\n",
    "    if (rad_dis <= 0.5):\n",
    "        Nc += 1\n",
    "print('pi estimation:',4*Nc/N)"
   ]
  },
  {
   "cell_type": "code",
   "execution_count": 3,
   "metadata": {},
   "outputs": [],
   "source": [
    "# Speed up computation njit speeds up calculation from 39 miliseconds to 280 microseconds for N = 8192\n",
    "@njit(fastmath=True)\n",
    "def pi(N):\n",
    "    Nc = 0\n",
    "    for i in range(N):\n",
    "        # Get random x and y values where bottom left corner of the sqaure is (0,0)\n",
    "        rand_xval = random.getrandbits(int(np.log2(N))) / N  # returns values between 0 and 1 discretized by N\n",
    "        rand_yval = random.getrandbits(int(np.log2(N))) / N  # returns values between 0 and 1 discretized by N\n",
    "        # Compute radial distance [remember cirle is centered at (0.5,0.5)]\n",
    "        rad_dis = np.sqrt((rand_xval-0.5)*(rand_xval-0.5) + (rand_yval-0.5)*(rand_yval-0.5))  # no need to take sqaure root since radius is 1\n",
    "        if (rad_dis <= 0.5):\n",
    "            Nc += 1\n",
    "    return 4*Nc/N"
   ]
  },
  {
   "cell_type": "code",
   "execution_count": 4,
   "metadata": {},
   "outputs": [
    {
     "name": "stdout",
     "output_type": "stream",
     "text": [
      "287 µs ± 50.7 µs per loop (mean ± std. dev. of 7 runs, 1 loop each)\n"
     ]
    }
   ],
   "source": [
    "%timeit pi(2**13)"
   ]
  },
  {
   "cell_type": "code",
   "execution_count": 15,
   "metadata": {},
   "outputs": [],
   "source": [
    "# Compute sample size N vs computation time\n",
    "Ns = np.asarray([2**i for i in range(14,27)])\n",
    "T = np.zeros(Ns.shape)\n",
    "pi_ests = np.zeros(Ns.shape)\n",
    "\n",
    "for i,n in enumerate(Ns):\n",
    "    start = time.time()\n",
    "    pi_est = pi(n)\n",
    "    end = time.time()\n",
    "    pi_ests[i] = pi_est\n",
    "    T[i] = end-start"
   ]
  },
  {
   "cell_type": "code",
   "execution_count": 16,
   "metadata": {},
   "outputs": [
    {
     "data": {
      "image/png": "[encoded data removed]",
      "text/plain": [
       "<Figure size 432x288 with 1 Axes>"
      ]
     },
     "metadata": {
      "needs_background": "light"
     },
     "output_type": "display_data"
    },
    {
     "data": {
      "image/png": "[encoded data removed]",
      "text/plain": [
       "<Figure size 432x288 with 1 Axes>"
      ]
     },
     "metadata": {
      "needs_background": "light"
     },
     "output_type": "display_data"
    },
    {
     "name": "stdout",
     "output_type": "stream",
     "text": [
      "LinregressResult(slope=0.18617902492545252, intercept=-2.22389428432171, rvalue=0.7138216037387105, pvalue=0.006136810829355084, stderr=0.05507391506711533)\n",
      "Largest sample: [67108864] with runtime: [2.45783687]\n"
     ]
    }
   ],
   "source": [
    "# \"Residuals\"\n",
    "plt.plot(Ns,pi_ests-np.pi)\n",
    "plt.ylabel('pi estimate - pi actual')\n",
    "plt.xscale('log')\n",
    "plt.xlabel('samples')\n",
    "plt.grid(True)\n",
    "plt.show()\n",
    "\n",
    "# Samples vs Time\n",
    "plt.plot(Ns,T)\n",
    "plt.xscale('log')\n",
    "plt.xlabel('samples')\n",
    "plt.yscale('log')\n",
    "plt.ylabel('time (s)')\n",
    "plt.grid(True)\n",
    "plt.show()\n",
    "\n",
    "# Compute slope of log-log samples vs time plot\n",
    "print(linregress(np.log(Ns), (T)))\n",
    "print('Largest sample:',Ns[-1:],'with runtime:',T[-1:])"
   ]
  },
  {
   "cell_type": "markdown",
   "metadata": {},
   "source": [
    "## Speed ups\n",
    "\n",
    "Generating a matrix of random x's and random y's then computing the radial distances through matrix manipulation may be faster than generating individual random x and y values. Let's explore the matrix option!\n",
    "\n",
    "#### Random number generation test:\n",
    "Is using individual getrandbits() calls to generate matrix of random values faster than getting a matrix from random()?"
   ]
  },
  {
   "cell_type": "code",
   "execution_count": 6,
   "metadata": {},
   "outputs": [],
   "source": [
    "# build matrix up from individual calls\n",
    "N = 2**10\n",
    "M = np.zeros([N,N])\n",
    "\n",
    "@njit(fastmath=True)\n",
    "def build_rand_matrix(N,M):\n",
    "    for i in range(0,N):\n",
    "        for j in range(0,N):\n",
    "            M[i,j] = random.getrandbits(int(np.log2(N)))\n",
    "    return M"
   ]
  },
  {
   "cell_type": "code",
   "execution_count": 8,
   "metadata": {},
   "outputs": [
    {
     "name": "stdout",
     "output_type": "stream",
     "text": [
      "21 ms ± 1.53 ms per loop (mean ± std. dev. of 7 runs, 1 loop each)\n"
     ]
    }
   ],
   "source": [
    "%timeit build_rand_matrix(N,M)"
   ]
  },
  {
   "cell_type": "code",
   "execution_count": 7,
   "metadata": {},
   "outputs": [],
   "source": [
    "# ask for entire matrix at once from np\n",
    "@njit(fastmath=True)\n",
    "def rand_matrix(N):\n",
    "    M = np.random.rand(N,N)\n",
    "    return M"
   ]
  },
  {
   "cell_type": "code",
   "execution_count": 10,
   "metadata": {},
   "outputs": [
    {
     "name": "stdout",
     "output_type": "stream",
     "text": [
      "10.2 ms ± 1.1 ms per loop (mean ± std. dev. of 7 runs, 100 loops each)\n"
     ]
    }
   ],
   "source": [
    "%timeit rand_matrix(N)"
   ]
  },
  {
   "cell_type": "markdown",
   "metadata": {},
   "source": [
    "Sure enough the matrices win! Numpy's random.rand() function is twice as fast in the case of $N = 2^5$ and nearly twice as fast for $N = 2^{10}$. Notice that we are working NxN matrices though. This means for $N = 2^5$, we are really producing $N=2^{10}$ random numbers. In our initial computation, the total time to computer with $N = 2^{26}$ was T[-1:] which is about 2 seconds. Let's see how our random number generation time compares"
   ]
  },
  {
   "cell_type": "code",
   "execution_count": 8,
   "metadata": {},
   "outputs": [
    {
     "data": {
      "text/plain": [
       "array([2.03989983])"
      ]
     },
     "execution_count": 8,
     "metadata": {},
     "output_type": "execute_result"
    }
   ],
   "source": [
    "T[-1:]"
   ]
  },
  {
   "cell_type": "code",
   "execution_count": 9,
   "metadata": {},
   "outputs": [],
   "source": [
    "N = 2**10\n",
    "\n",
    "# FUNCTION ONLY ACCEPTS EVEN POWER OF 2 AS INPUT(e.g. N = 2**4, N = 2**6, etc.)\n",
    "@njit(fastmath=True)\n",
    "def pi_matrix(N):\n",
    "    M = rand_matrix(np.sqrt(N))  # generate Sqrt(N)xSqrt(N) = N random numbers\n",
    "    R = np.sqrt((M-0.5)*(M-0.5) + (np.transpose(M)-0.5)*(np.transpose(M)-0.5))\n",
    "    Nc = np.sum(R < 0.5)\n",
    "    return 4*Nc/N"
   ]
  },
  {
   "cell_type": "code",
   "execution_count": 10,
   "metadata": {},
   "outputs": [
    {
     "name": "stdout",
     "output_type": "stream",
     "text": [
      "pi estimate: 3.134765625\n"
     ]
    }
   ],
   "source": [
    "print('pi estimate:', pi_matrix(2**13))"
   ]
  },
  {
   "cell_type": "code",
   "execution_count": 14,
   "metadata": {},
   "outputs": [
    {
     "name": "stdout",
     "output_type": "stream",
     "text": [
      "117 µs ± 19.8 µs per loop (mean ± std. dev. of 7 runs, 10000 loops each)\n"
     ]
    }
   ],
   "source": [
    "%timeit pi_matrix(2**13)"
   ]
  },
  {
   "cell_type": "code",
   "execution_count": 15,
   "metadata": {},
   "outputs": [
    {
     "name": "stdout",
     "output_type": "stream",
     "text": [
      "279 µs ± 19 µs per loop (mean ± std. dev. of 7 runs, 1000 loops each)\n"
     ]
    }
   ],
   "source": [
    "%timeit pi(2**13)"
   ]
  },
  {
   "cell_type": "markdown",
   "metadata": {},
   "source": [
    "Pulling in at ~250 microseconds, the pi() function is SLOWER than the matrix approach by 2! Let's see how well this holds for larger matrices. At some point my laptop won't be able to lug around huge matrices and memory will start to kill the pi_matrix() performance. "
   ]
  },
  {
   "cell_type": "code",
   "execution_count": 11,
   "metadata": {},
   "outputs": [],
   "source": [
    "# See sample size N vs computation time\n",
    "Ns_mat = np.asarray([2**i for i in range(14,27)][::2])  # Need N to be a even power of 2\n",
    "T_mat = np.zeros(Ns_mat.shape)\n",
    "pi_ests_mat = np.zeros(Ns_mat.shape)\n",
    "\n",
    "for i,n in enumerate(Ns_mat):\n",
    "    start = time.time()\n",
    "    pi_est_mat = pi_matrix(n)\n",
    "    end = time.time()\n",
    "    pi_ests_mat[i] = pi_est_mat\n",
    "    T_mat[i] = end-start"
   ]
  },
  {
   "cell_type": "code",
   "execution_count": 60,
   "metadata": {},
   "outputs": [
    {
     "data": {
      "image/png": "[encoded data removed]",
      "text/plain": [
       "<Figure size 432x288 with 1 Axes>"
      ]
     },
     "metadata": {
      "needs_background": "light"
     },
     "output_type": "display_data"
    },
    {
     "data": {
      "image/png": "[encoded data removed]",
      "text/plain": [
       "<Figure size 432x288 with 1 Axes>"
      ]
     },
     "metadata": {
      "needs_background": "light"
     },
     "output_type": "display_data"
    },
    {
     "data": {
      "image/png": "[encoded data removed]",
      "text/plain": [
       "<Figure size 432x288 with 1 Axes>"
      ]
     },
     "metadata": {
      "needs_background": "light"
     },
     "output_type": "display_data"
    },
    {
     "name": "stdout",
     "output_type": "stream",
     "text": [
      "LinregressResult(slope=0.21040622236993586, intercept=-2.4864648580551147, rvalue=0.7257667503835223, pvalue=0.06483013230290045, stderr=0.08919235123548981)\n",
      "Largest sample: [67108864] with runtime: [2.35853386]\n"
     ]
    }
   ],
   "source": [
    "# \"Residuals\"\n",
    "plt.plot(Ns_mat,pi_ests_mat-np.pi)\n",
    "plt.ylabel('pi estimate - pi actual')\n",
    "plt.xscale('log')\n",
    "plt.xlabel('samples')\n",
    "plt.grid(True)\n",
    "plt.show()\n",
    "\n",
    "# Samples vs Time\n",
    "plt.plot(Ns_mat,T_mat)\n",
    "plt.xscale('log')\n",
    "plt.xlabel('samples')\n",
    "plt.yscale('log')\n",
    "plt.ylabel('time (s)')\n",
    "plt.grid(True)\n",
    "plt.show()\n",
    "\n",
    "# Samples vs Time with matrix and initial method\n",
    "plt.plot(Ns_mat,T_mat,Ns,T)\n",
    "plt.xscale('log')\n",
    "plt.xlabel('samples')\n",
    "plt.yscale('log')\n",
    "plt.ylabel('time (s)')\n",
    "plt.grid(True)\n",
    "plt.legend(['Matrix Method','For loop Method'])\n",
    "plt.show()\n",
    "\n",
    "# Compute slope of log-log samples vs time plot\n",
    "print(linregress(np.log(Ns_mat), (T_mat)))\n",
    "print('Largest sample:',Ns_mat[-1:],'with runtime:',T_mat[-1:])"
   ]
  },
  {
   "cell_type": "markdown",
   "metadata": {},
   "source": [
    "Compared to the previous method, the matrix method is actually nearly the same as the first method for the largest sample sizes of $N$. The intercept is much lower than the inital method though meaning the matrix method is faster for smaller $N$, specifically $N < 10^6$."
   ]
  },
  {
   "cell_type": "code",
   "execution_count": null,
   "metadata": {},
   "outputs": [],
   "source": []
  }
 ],
 "metadata": {
  "kernelspec": {
   "display_name": "Python 3",
   "language": "python",
   "name": "python3"
  },
  "language_info": {
   "codemirror_mode": {
    "name": "ipython",
    "version": 3
   },
   "file_extension": ".py",
   "mimetype": "text/x-python",
   "name": "python",
   "nbconvert_exporter": "python",
   "pygments_lexer": "ipython3",
   "version": "3.6.4"
  }
 },
 "nbformat": 4,
 "nbformat_minor": 2
}
