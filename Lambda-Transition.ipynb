{
 "cells": [
  {
   "cell_type": "markdown",
   "metadata": {},
   "source": [
    "# Two-Photon Stimulated Raman Transition\n",
    "In the lab, we work with hyperfine qubits in $^{171}\\text{Yb}^+$. To make the transition from $|0\\rangle$ to $|1\\rangle$, we use a two-photon stimulated raman transition. Here is a simple simulation of such a transition, sometimes called a $\\lambda$ transition due to its shape"
   ]
  },
  {
   "cell_type": "code",
   "execution_count": 1,
   "metadata": {},
   "outputs": [],
   "source": [
    "import numpy as np\n",
    "import matplotlib.pyplot as plt"
   ]
  },
  {
   "cell_type": "markdown",
   "metadata": {},
   "source": [
    "The math turns out as follows. (More on this later).\n",
    "$$\n",
    "|\\psi(t)\\rangle = C_a(t)|a\\rangle + C_b(t)|b\\rangle + C_e(t)|e\\rangle\n",
    "$$\n",
    "\n",
    "Where the time dependance of the coefficients are as follows:\n",
    "$$\n",
    "\\begin{align*}\n",
    "i\\dot{\\widetilde{C}_a}(t) &= \\frac{g}{2}\\widetilde{C}_e(t)\\left[e^{-i\\Delta t}+e^{-i\\left(\\Delta+\\delta\\omega\\right)t}\\right]\n",
    "\\\\\n",
    "i\\dot{\\widetilde{C}_b}(t) &= \\frac{g}{2}\\widetilde{C}_e(t)\\left[e^{-i\\Delta-\\omega_{ba}t}+e^{-i\\left(\\Delta-\\omega_{ba}+\\delta\\omega\\right)t}\\right]\n",
    "\\\\\n",
    "i\\dot{\\widetilde{C}_e}(t) &= \\frac{g*}{2}\\left[\\widetilde{C}_a(t)\\left[e^{i\\Delta t}+e^{i\\left(\\Delta+\\delta\\omega\\right)t}\\right]+\\widetilde{C}_b(t)\\left[e^{i\\left(\\Delta-\\omega_{ba}\\right)t}+e^{i\\left(\\Delta-\\omega_{ba}+\\delta\\omega\\right)t}\\right]\\right]\n",
    "\\end{align*}\n",
    "$$\n",
    "and\n",
    "$$\n",
    "C_n(t) = \\widetilde{C}_n(t)e^{-i\\omega_n} \\text{(n = a,b,e)}\n",
    "$$"
   ]
  },
  {
   "cell_type": "code",
   "execution_count": null,
   "metadata": {},
   "outputs": [],
   "source": []
  }
 ],
 "metadata": {
  "kernelspec": {
   "display_name": "Python 3",
   "language": "python",
   "name": "python3"
  },
  "language_info": {
   "codemirror_mode": {
    "name": "ipython",
    "version": 3
   },
   "file_extension": ".py",
   "mimetype": "text/x-python",
   "name": "python",
   "nbconvert_exporter": "python",
   "pygments_lexer": "ipython3",
   "version": "3.6.4"
  }
 },
 "nbformat": 4,
 "nbformat_minor": 2
}
