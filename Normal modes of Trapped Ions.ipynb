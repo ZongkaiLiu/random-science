{
 "cells": [
  {
   "cell_type": "markdown",
   "metadata": {},
   "source": [
    "# Normal Modes: Ion Chain\n",
    "Here we estimate normal modes of ion chains and ion pancakes using classical estimations"
   ]
  },
  {
   "cell_type": "code",
   "execution_count": 1,
   "metadata": {},
   "outputs": [],
   "source": [
    "import numpy as np\n",
    "import matplotlib.pyplot as plt"
   ]
  },
  {
   "cell_type": "markdown",
   "metadata": {},
   "source": [
    "The Lagrangian for N identical ions in an RF Paul trap can be estimated as identical masses connected by identical springs in a global harmonic potential. For an ion chain, let's have the z axis be the axial component of the trap.\n",
    "\n",
    "$$\n",
    "\\mathcal{L} = \\sum_{n=0}^{N}\\frac{1}{2}m \\dot{x}_n^2 - \\sum_{n=0}^{N}\\frac{1}{2}m\\omega_z^2x_n^2 + \\frac{1}{2}k(x_1-x_2)^2 + \\frac{1}{2}k(x_2 - x_3)^2 + \\ldots + \\frac{1}{2}k(x_{n-1} - x_n)^2\n",
    "$$\n",
    "\n",
    "where k is the \"spring\" constant between ions and $\\omega_z$ is the global harmonic potential due to axial confinement. Reducing to a compact form\n",
    "\n",
    "$$\n",
    "\\mathcal{L} = \\sum_{n=0}^{N}\\frac{1}{2}m \\dot{x}_n^2 - \\sum_{n=0}^{N}\\frac{1}{2}m\\omega_z^2x_n^2 + \\frac{1}{2}k(x_1^2 + x_N^2) + \\sum_{n=2}^{N-1}k(x_n^2 + x_n x_{n-1})\n",
    "$$\n",
    "\n",
    "To confirm this result, let's set $\\omega_z = 0$ and check the solution matches that of a simple chain of massess connected to springs. The equations of motion are then\n",
    "\n",
    "$$\n",
    "\\begin{align*}\n",
    "\\ddot{x}_1 &= \\frac{k}{m}(x_1 - x_2) \\\\\n",
    "\\ddot{x}_2 &= \\frac{k}{m}(-x_1 + x_2 - x_3) \\\\\n",
    "\\vdots{}\\\\\n",
    "\\ddot{x_n} &= \\frac{k}{m}(-x_{n-1} + x_n - x_{n+1}) \\\\\n",
    "\\vdots{}\\\\\n",
    "\\ddot{x_N} &= \\frac{k}{m}(x_N - x_{N-1})\n",
    "\\end{align*}\n",
    "$$\n",
    "\n",
    "Putting these equations into a matrix form, we can solve for the normal modes and normal frequencies by finding the eigenvectors and eigenvalues."
   ]
  },
  {
   "cell_type": "code",
   "execution_count": 9,
   "metadata": {},
   "outputs": [],
   "source": [
    "N = 9  # number of ions in chain\n",
    "k = 1\n",
    "m = 1"
   ]
  },
  {
   "cell_type": "code",
   "execution_count": 23,
   "metadata": {},
   "outputs": [
    {
     "data": {
      "text/plain": [
       "array([[ 1., -1.,  0.,  0.,  0.,  0.,  0.,  0.,  0.],\n",
       "       [-1.,  1., -1.,  0.,  0.,  0.,  0.,  0.,  0.],\n",
       "       [ 0., -1.,  1., -1.,  0.,  0.,  0.,  0.,  0.],\n",
       "       [ 0.,  0., -1.,  1., -1.,  0.,  0.,  0.,  0.],\n",
       "       [ 0.,  0.,  0., -1.,  1., -1.,  0.,  0.,  0.],\n",
       "       [ 0.,  0.,  0.,  0., -1.,  1., -1.,  0.,  0.],\n",
       "       [ 0.,  0.,  0.,  0.,  0., -1.,  1., -1.,  0.],\n",
       "       [ 0.,  0.,  0.,  0.,  0.,  0., -1.,  1., -1.],\n",
       "       [ 0.,  0.,  0.,  0.,  0.,  0.,  0., -1.,  1.]])"
      ]
     },
     "execution_count": 23,
     "metadata": {},
     "output_type": "execute_result"
    }
   ],
   "source": [
    "da = np.diag(-np.ones(N-1)*k/m, 1)\n",
    "d = np.diag(np.ones(N)*k/m, 0)\n",
    "db = np.diag(-np.ones(N-1)*k/m, -1)\n",
    "\n",
    "M = np.add(np.add(da,d),db)"
   ]
  },
  {
   "cell_type": "code",
   "execution_count": null,
   "metadata": {},
   "outputs": [],
   "source": []
  },
  {
   "cell_type": "code",
   "execution_count": null,
   "metadata": {},
   "outputs": [],
   "source": []
  }
 ],
 "metadata": {
  "kernelspec": {
   "display_name": "Python 3",
   "language": "python",
   "name": "python3"
  },
  "language_info": {
   "codemirror_mode": {
    "name": "ipython",
    "version": 3
   },
   "file_extension": ".py",
   "mimetype": "text/x-python",
   "name": "python",
   "nbconvert_exporter": "python",
   "pygments_lexer": "ipython3",
   "version": "3.6.4"
  }
 },
 "nbformat": 4,
 "nbformat_minor": 2
}
